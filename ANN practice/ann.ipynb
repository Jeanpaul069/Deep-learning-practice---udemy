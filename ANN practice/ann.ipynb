{
 "cells": [
  {
   "cell_type": "code",
   "execution_count": 22,
   "metadata": {
    "collapsed": false
   },
   "outputs": [
    {
     "name": "stdout",
     "output_type": "stream",
     "text": [
      "500\n",
      "4\n",
      "(500L,)\n",
      "Score:  0.102\n"
     ]
    }
   ],
   "source": [
    "import numpy as np\n",
    "from process import get_data\n",
    "\n",
    "path = \"ecommerce_data.csv\"\n",
    "X,Y = get_data(path)\n",
    "\n",
    "M = 5\n",
    "D = X.shape[1]\n",
    "K = len(set(Y))\n",
    "\n",
    "print len(Y)\n",
    "print K\n",
    "\n",
    "w1 = np.random.randn(D,M)\n",
    "b1 = np.zeros(M)\n",
    "\n",
    "w2 = np.random.randn(M,K)\n",
    "b2 = np.zeros(K)\n",
    "\n",
    "def softmax(a):\n",
    "    expA = np.exp(a)\n",
    "    return expA / expA.sum(axis=1, keepdims=True)\n",
    "\n",
    "def forward(X, w1, b1, w2, b2):\n",
    "    Z = np.tanh(X.dot(w1) + b1)\n",
    "    return softmax(Z.dot(w2) + b2)\n",
    "\n",
    "P_Y_given_X = forward(X, w1, b1, w2, b2)\n",
    "prediction = np.argmax(P_Y_given_X, axis=1)\n",
    "\n",
    "def classification(Y, P):\n",
    "    return np.mean(Y == P)\n",
    "\n",
    "print \"Score: \", classification(Y, prediction)"
   ]
  },
  {
   "cell_type": "code",
   "execution_count": 26,
   "metadata": {
    "collapsed": false
   },
   "outputs": [
    {
     "name": "stdout",
     "output_type": "stream",
     "text": [
      "1\n",
      "[[ 0.26991483  0.73008517]]\n"
     ]
    }
   ],
   "source": [
    "#quiz 2 answer\n",
    "import numpy as np\n",
    "X = [[1,2]]\n",
    "X = np.asmatrix(X)\n",
    "\n",
    "w1 = [[1,1],[1,0]]\n",
    "b1 = np.zeros(2)\n",
    "\n",
    "w2 = [[0,1],[1,1]]\n",
    "b2 = np.zeros(2)\n",
    "\n",
    "def softmax(a):\n",
    "    expA = np.exp(a)\n",
    "    return expA / expA.sum(axis=1)\n",
    "\n",
    "def forward(X, w1, b1, w2, b2):\n",
    "    Z = np.tanh(X.dot(w1) + b1)\n",
    "    return softmax(Z.dot(w2) + b2)\n",
    "\n",
    "P_Y_given_X = forward(X, w1, b1, w2, b2)\n",
    "prediction = np.argmax(P_Y_given_X)\n",
    "print prediction\n",
    "print P_Y_given_X"
   ]
  },
  {
   "cell_type": "code",
   "execution_count": null,
   "metadata": {
    "collapsed": true
   },
   "outputs": [],
   "source": []
  }
 ],
 "metadata": {
  "kernelspec": {
   "display_name": "Python 2",
   "language": "python",
   "name": "python2"
  },
  "language_info": {
   "codemirror_mode": {
    "name": "ipython",
    "version": 2
   },
   "file_extension": ".py",
   "mimetype": "text/x-python",
   "name": "python",
   "nbconvert_exporter": "python",
   "pygments_lexer": "ipython2",
   "version": "2.7.11"
  }
 },
 "nbformat": 4,
 "nbformat_minor": 0
}
